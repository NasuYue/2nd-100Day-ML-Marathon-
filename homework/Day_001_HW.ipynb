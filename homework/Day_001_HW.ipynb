{
 "cells": [
  {
   "cell_type": "markdown",
   "metadata": {},
   "source": [
    "### 作業1：\n",
    "\n",
    "請上 Kaggle, 在 Competitions 或 Dataset 中找一組競賽或資料並寫下：\n",
    "\n",
    "1. 你選的這組資料為何重要\n",
    "> [Netflix Prize data](https://www.kaggle.com/netflix-inc/netflix-prize-data)\n",
    "> Netflix是全世界最大的串流服務供應商，如果能夠更精地預測用戶對於一部影片的評分，就能更進行更精準的推薦。  \n",
    "> 也能夠依照數據將客戶分群，甚至能夠以此去設計劇本內容與風格。\n",
    "\n",
    "2. 資料從何而來 (tips: 譬如提供者是誰、以什麼方式蒐集)\n",
    ">Netflix公司，來自真實的客戶評分資料。\n",
    "\n",
    "3. 蒐集而來的資料型態為何\n",
    ">CSV\n",
    "\n",
    "4. 這組資料想解決的問題如何評估\n",
    ">設計一個算法，將training dataset處理過後分類到20個評分級距 (0.0-0.5, 0.6-1.0, 1.1-1.5, ... 9.5-10.0)\n",
    "\n",
    "\n",
    "### 作業2：\n",
    "\n",
    "想像你經營一個自由載客車隊，你希望能透過數據分析以提升業績，請你思考並描述你如何規劃整體的分析/解決方案：\n",
    "\n",
    "1. 核心問題為何 (tips：如何定義 「提升業績 & 你的假設」)\n",
    ">依照銷售漏斗來思考，通路曝光->接觸與詢價->服務流程->售後追蹤->回頭客\n",
    "> - 假設：接觸與詢價階段的轉換率低下導致業績無法成長\n",
    "> - 可能原因：各通路廣告傳遞的訊息有誤，客戶懷著錯誤的期待向服務人員詢價，導致服務人員無法將不合適的客群進行轉換。\n",
    "\n",
    "\n",
    "2. 資料從何而來 (tips：哪些資料可能會對你想問的問題產生影響 & 資料如何蒐集)\n",
    "> 當客戶從通路進線時(web/app/mail/call)直接紀錄來源、服務人員、服務相關內容等\n",
    "\n",
    "3. 蒐集而來的資料型態為何\n",
    "> csv或xls檔案。其中欄位包含：\n",
    "> - String 服務人員姓名\n",
    "> - int 服務人員年資\n",
    "> - Sring 客戶的問題類別\n",
    "> - int 與客戶的接觸時間\n",
    "> - bool 客戶最後是否採用我方服務\n",
    "\n",
    "\n",
    "4. 你要回答的問題，其如何評估 (tips：你的假設如何驗證)\n",
    "> 以[服務人員姓名]、[服務人員年資]、[客戶的問題類別]、[與客戶的接觸時間]預測[客戶最後是否採用我方服務]\n",
    "\n",
    "\n",
    "### 作業3：\n",
    "\n",
    "請點選下方檢視範例依照 Day_001_example_of_metrics.ipynb 完成 Mean Squared Error 的函式\n",
    "\n",
    "資料夾結構建立規則提醒：2nd-ML100Days > data資料夾 & homework資料夾 (ipynb檔) \n",
    "\n",
    "(請注意data的存放位置，建議放在*.ipynb 同一個目錄下，這樣才能在不修改code的情況下正常執行)\n",
    "\n",
    "---\n",
    "#### 練習時間\n",
    "##### 請寫一個函式用來計算 Mean Square Error\n",
    "$ MSE = \\frac{1}{n}\\sum_{i=1}^{n}{(Y_i - \\hat{Y}_i)^2} $\n",
    "\n",
    "##### Hint: [如何取平方](https://googoodesign.gitbooks.io/-ezpython/unit-1.html)"
   ]
  },
  {
   "cell_type": "code",
   "execution_count": 1,
   "metadata": {},
   "outputs": [
    {
     "name": "stdout",
     "output_type": "stream",
     "text": [
      "The Mean square error is 1.667\n"
     ]
    }
   ],
   "source": [
    "import math\n",
    "def mean_square_error(y, yp):\n",
    "    MSE=0\n",
    "    if len(y)<1 or (len(y) != len(yp)):\n",
    "        # 如果length小於1，直接拒絕。\n",
    "        print(\"Input is not allowed.\")\n",
    "        return -999\n",
    "    else:\n",
    "    \n",
    "        for index in range(len(y)):\n",
    "            MSE += math.pow(y[index]-yp[index],2)    \n",
    "\n",
    "        return MSE / len(y)\n",
    "\n",
    "y=[2,2,3]\n",
    "y_hat=[1,2,1]\n",
    "\n",
    "MSE = mean_square_error(y, y_hat)\n",
    "print(\"The Mean square error is %.3f\" % (MSE))"
   ]
  },
  {
   "cell_type": "code",
   "execution_count": null,
   "metadata": {},
   "outputs": [],
   "source": []
  }
 ],
 "metadata": {
  "kernelspec": {
   "display_name": "Python 3",
   "language": "python",
   "name": "python3"
  },
  "language_info": {
   "codemirror_mode": {
    "name": "ipython",
    "version": 3
   },
   "file_extension": ".py",
   "mimetype": "text/x-python",
   "name": "python",
   "nbconvert_exporter": "python",
   "pygments_lexer": "ipython3",
   "version": "3.7.1"
  }
 },
 "nbformat": 4,
 "nbformat_minor": 2
}
